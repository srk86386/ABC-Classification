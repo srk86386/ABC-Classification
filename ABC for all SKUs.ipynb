{
 "cells": [
  {
   "cell_type": "code",
   "execution_count": 105,
   "metadata": {},
   "outputs": [],
   "source": [
    "import numpy as np\n",
    "import pandas as pd"
   ]
  },
  {
   "cell_type": "code",
   "execution_count": 106,
   "metadata": {},
   "outputs": [],
   "source": [
    "import matplotlib.pyplot as plt\n",
    "from pylab import rcParams\n",
    "rcParams['figure.figsize'] = 15, 8"
   ]
  },
  {
   "cell_type": "code",
   "execution_count": 107,
   "metadata": {},
   "outputs": [],
   "source": [
    "# considering only sales test file to perform ABC CLassification on SKU\n",
    "sales = pd.read_csv('sales_test.csv', index_col=0)"
   ]
  },
  {
   "cell_type": "code",
   "execution_count": 108,
   "metadata": {},
   "outputs": [
    {
     "data": {
      "text/html": [
       "<div>\n",
       "<style scoped>\n",
       "    .dataframe tbody tr th:only-of-type {\n",
       "        vertical-align: middle;\n",
       "    }\n",
       "\n",
       "    .dataframe tbody tr th {\n",
       "        vertical-align: top;\n",
       "    }\n",
       "\n",
       "    .dataframe thead th {\n",
       "        text-align: right;\n",
       "    }\n",
       "</style>\n",
       "<table border=\"1\" class=\"dataframe\">\n",
       "  <thead>\n",
       "    <tr style=\"text-align: right;\">\n",
       "      <th></th>\n",
       "      <th>Order Date</th>\n",
       "      <th>Line No</th>\n",
       "      <th>Ship To Address No</th>\n",
       "      <th>Item Code</th>\n",
       "      <th>Order Qty</th>\n",
       "      <th>Quantity Shipped</th>\n",
       "    </tr>\n",
       "    <tr>\n",
       "      <th>Order No</th>\n",
       "      <th></th>\n",
       "      <th></th>\n",
       "      <th></th>\n",
       "      <th></th>\n",
       "      <th></th>\n",
       "      <th></th>\n",
       "    </tr>\n",
       "  </thead>\n",
       "  <tbody>\n",
       "    <tr>\n",
       "      <th>528758</th>\n",
       "      <td>2017-01-03</td>\n",
       "      <td>1</td>\n",
       "      <td>1358538.0</td>\n",
       "      <td>111931</td>\n",
       "      <td>70.0</td>\n",
       "      <td>70.0</td>\n",
       "    </tr>\n",
       "    <tr>\n",
       "      <th>528791</th>\n",
       "      <td>2017-01-03</td>\n",
       "      <td>1</td>\n",
       "      <td>1254798.0</td>\n",
       "      <td>1029071</td>\n",
       "      <td>10.0</td>\n",
       "      <td>10.0</td>\n",
       "    </tr>\n",
       "    <tr>\n",
       "      <th>528791</th>\n",
       "      <td>2017-01-03</td>\n",
       "      <td>2</td>\n",
       "      <td>1254798.0</td>\n",
       "      <td>1033341</td>\n",
       "      <td>10.0</td>\n",
       "      <td>10.0</td>\n",
       "    </tr>\n",
       "    <tr>\n",
       "      <th>528791</th>\n",
       "      <td>2017-01-03</td>\n",
       "      <td>3</td>\n",
       "      <td>1254798.0</td>\n",
       "      <td>1040827</td>\n",
       "      <td>5.0</td>\n",
       "      <td>5.0</td>\n",
       "    </tr>\n",
       "    <tr>\n",
       "      <th>528791</th>\n",
       "      <td>2017-01-03</td>\n",
       "      <td>4</td>\n",
       "      <td>1254798.0</td>\n",
       "      <td>10106111</td>\n",
       "      <td>10.0</td>\n",
       "      <td>10.0</td>\n",
       "    </tr>\n",
       "  </tbody>\n",
       "</table>\n",
       "</div>"
      ],
      "text/plain": [
       "          Order Date  Line No  Ship To Address No  Item Code  Order Qty  \\\n",
       "Order No                                                                  \n",
       "528758    2017-01-03        1           1358538.0     111931       70.0   \n",
       "528791    2017-01-03        1           1254798.0    1029071       10.0   \n",
       "528791    2017-01-03        2           1254798.0    1033341       10.0   \n",
       "528791    2017-01-03        3           1254798.0    1040827        5.0   \n",
       "528791    2017-01-03        4           1254798.0   10106111       10.0   \n",
       "\n",
       "          Quantity Shipped  \n",
       "Order No                    \n",
       "528758                70.0  \n",
       "528791                10.0  \n",
       "528791                10.0  \n",
       "528791                 5.0  \n",
       "528791                10.0  "
      ]
     },
     "execution_count": 108,
     "metadata": {},
     "output_type": "execute_result"
    }
   ],
   "source": [
    "sales.head()"
   ]
  },
  {
   "cell_type": "code",
   "execution_count": 109,
   "metadata": {},
   "outputs": [
    {
     "name": "stdout",
     "output_type": "stream",
     "text": [
      "total order quantity: 183235.0 and canceled quantity: 183235.0\n"
     ]
    }
   ],
   "source": [
    "print(f\"total order quantity: {sales['Order Qty'].sum()} and canceled quantity: {sales['Quantity Shipped'].sum()}\")"
   ]
  },
  {
   "cell_type": "code",
   "execution_count": 110,
   "metadata": {},
   "outputs": [
    {
     "data": {
      "text/plain": [
       "64"
      ]
     },
     "execution_count": 110,
     "metadata": {},
     "output_type": "execute_result"
    }
   ],
   "source": [
    "len(sales['Item Code'].unique())"
   ]
  },
  {
   "cell_type": "markdown",
   "metadata": {},
   "source": [
    "# Steps followed for ABC classification:\n",
    "\n",
    "> 1.List each unique product (with its item code / SKU) after sorting and totaling up the order quantity values.\n",
    "\n",
    "> 2.Sort the values of the series in descending order according to order quantity value.\n",
    "\n",
    "> 3.Translate each item and its order quantity into the fraction or percentage of the cumulative total.\n",
    "\n",
    "> 4.Divide the items into A, B, and C classes where A are the product which have cumsum avg less than 80%, B have cumsum avg between 80-95% and C have cumsum avg greater than 95%"
   ]
  },
  {
   "cell_type": "code",
   "execution_count": 111,
   "metadata": {},
   "outputs": [
    {
     "data": {
      "text/plain": [
       "Item Code\n",
       "110441      9600.0\n",
       "111931     15575.0\n",
       "113106       908.0\n",
       "1029069      188.0\n",
       "1029070      443.0\n",
       "Name: Order Qty, dtype: float64"
      ]
     },
     "execution_count": 111,
     "metadata": {},
     "output_type": "execute_result"
    }
   ],
   "source": [
    "# performing Step 1\n",
    "Groupby_qty = sales['Order Qty'].groupby(sales['Item Code'], sort = True).sum()\n",
    "Groupby_qty.head()"
   ]
  },
  {
   "cell_type": "code",
   "execution_count": 112,
   "metadata": {},
   "outputs": [
    {
     "data": {
      "text/html": [
       "<div>\n",
       "<style scoped>\n",
       "    .dataframe tbody tr th:only-of-type {\n",
       "        vertical-align: middle;\n",
       "    }\n",
       "\n",
       "    .dataframe tbody tr th {\n",
       "        vertical-align: top;\n",
       "    }\n",
       "\n",
       "    .dataframe thead th {\n",
       "        text-align: right;\n",
       "    }\n",
       "</style>\n",
       "<table border=\"1\" class=\"dataframe\">\n",
       "  <thead>\n",
       "    <tr style=\"text-align: right;\">\n",
       "      <th></th>\n",
       "      <th>Order Qty</th>\n",
       "    </tr>\n",
       "    <tr>\n",
       "      <th>Item Code</th>\n",
       "      <th></th>\n",
       "    </tr>\n",
       "  </thead>\n",
       "  <tbody>\n",
       "    <tr>\n",
       "      <th>10098739</th>\n",
       "      <td>27173.0</td>\n",
       "    </tr>\n",
       "    <tr>\n",
       "      <th>111931</th>\n",
       "      <td>15575.0</td>\n",
       "    </tr>\n",
       "    <tr>\n",
       "      <th>1041106</th>\n",
       "      <td>13178.0</td>\n",
       "    </tr>\n",
       "    <tr>\n",
       "      <th>1040765</th>\n",
       "      <td>11980.0</td>\n",
       "    </tr>\n",
       "    <tr>\n",
       "      <th>110441</th>\n",
       "      <td>9600.0</td>\n",
       "    </tr>\n",
       "  </tbody>\n",
       "</table>\n",
       "</div>"
      ],
      "text/plain": [
       "           Order Qty\n",
       "Item Code           \n",
       "10098739     27173.0\n",
       "111931       15575.0\n",
       "1041106      13178.0\n",
       "1040765      11980.0\n",
       "110441        9600.0"
      ]
     },
     "execution_count": 112,
     "metadata": {},
     "output_type": "execute_result"
    }
   ],
   "source": [
    "#performing Step 2\n",
    "Value_Series = pd.DataFrame(Groupby_qty.sort_values(ascending  = False))\n",
    "Value_Series.head()"
   ]
  },
  {
   "cell_type": "code",
   "execution_count": 113,
   "metadata": {},
   "outputs": [
    {
     "data": {
      "text/html": [
       "<div>\n",
       "<style scoped>\n",
       "    .dataframe tbody tr th:only-of-type {\n",
       "        vertical-align: middle;\n",
       "    }\n",
       "\n",
       "    .dataframe tbody tr th {\n",
       "        vertical-align: top;\n",
       "    }\n",
       "\n",
       "    .dataframe thead th {\n",
       "        text-align: right;\n",
       "    }\n",
       "</style>\n",
       "<table border=\"1\" class=\"dataframe\">\n",
       "  <thead>\n",
       "    <tr style=\"text-align: right;\">\n",
       "      <th></th>\n",
       "      <th>Order Qty</th>\n",
       "    </tr>\n",
       "    <tr>\n",
       "      <th>Item Code</th>\n",
       "      <th></th>\n",
       "    </tr>\n",
       "  </thead>\n",
       "  <tbody>\n",
       "    <tr>\n",
       "      <th>10098739</th>\n",
       "      <td>0.148296</td>\n",
       "    </tr>\n",
       "    <tr>\n",
       "      <th>111931</th>\n",
       "      <td>0.233296</td>\n",
       "    </tr>\n",
       "    <tr>\n",
       "      <th>1041106</th>\n",
       "      <td>0.305215</td>\n",
       "    </tr>\n",
       "    <tr>\n",
       "      <th>1040765</th>\n",
       "      <td>0.370595</td>\n",
       "    </tr>\n",
       "    <tr>\n",
       "      <th>110441</th>\n",
       "      <td>0.422987</td>\n",
       "    </tr>\n",
       "  </tbody>\n",
       "</table>\n",
       "</div>"
      ],
      "text/plain": [
       "           Order Qty\n",
       "Item Code           \n",
       "10098739    0.148296\n",
       "111931      0.233296\n",
       "1041106     0.305215\n",
       "1040765     0.370595\n",
       "110441      0.422987"
      ]
     },
     "execution_count": 113,
     "metadata": {},
     "output_type": "execute_result"
    }
   ],
   "source": [
    "# Performing Step 3\n",
    "Value_Series = Value_Series.cumsum()/Value_Series.sum()\n",
    "Value_Series.head()"
   ]
  },
  {
   "cell_type": "code",
   "execution_count": 114,
   "metadata": {},
   "outputs": [
    {
     "data": {
      "text/plain": [
       "<matplotlib.axes._subplots.AxesSubplot at 0x1630d5cde10>"
      ]
     },
     "execution_count": 114,
     "metadata": {},
     "output_type": "execute_result"
    },
    {
     "data": {
      "image/png": "[encoded data removed]",
      "text/plain": [
       "<Figure size 1080x576 with 1 Axes>"
      ]
     },
     "metadata": {},
     "output_type": "display_data"
    }
   ],
   "source": [
    "Value_Series.plot(kind='bar')"
   ]
  },
  {
   "cell_type": "code",
   "execution_count": 115,
   "metadata": {},
   "outputs": [
    {
     "name": "stdout",
     "output_type": "stream",
     "text": [
      "0.14829590416678037\n",
      "0.23329604060359646\n",
      "0.30521461511174175\n",
      "0.37059513739187383\n",
      "0.42298687477829017\n"
     ]
    },
    {
     "data": {
      "text/plain": [
       "[None, None, None, None, None]"
      ]
     },
     "execution_count": 115,
     "metadata": {},
     "output_type": "execute_result"
    }
   ],
   "source": [
    "# just to check the results of cumsum avg\n",
    "cumsumavg =  [x[0] for x in Value_Series.values.tolist()]\n",
    "[print(cumsumavg[x]) for x in range(5)]\n",
    "#cumsumavg"
   ]
  },
  {
   "cell_type": "code",
   "execution_count": 116,
   "metadata": {},
   "outputs": [
    {
     "data": {
      "text/html": [
       "<div>\n",
       "<style scoped>\n",
       "    .dataframe tbody tr th:only-of-type {\n",
       "        vertical-align: middle;\n",
       "    }\n",
       "\n",
       "    .dataframe tbody tr th {\n",
       "        vertical-align: top;\n",
       "    }\n",
       "\n",
       "    .dataframe thead th {\n",
       "        text-align: right;\n",
       "    }\n",
       "</style>\n",
       "<table border=\"1\" class=\"dataframe\">\n",
       "  <thead>\n",
       "    <tr style=\"text-align: right;\">\n",
       "      <th></th>\n",
       "      <th>0</th>\n",
       "    </tr>\n",
       "  </thead>\n",
       "  <tbody>\n",
       "    <tr>\n",
       "      <th>0</th>\n",
       "      <td>A</td>\n",
       "    </tr>\n",
       "    <tr>\n",
       "      <th>1</th>\n",
       "      <td>A</td>\n",
       "    </tr>\n",
       "    <tr>\n",
       "      <th>2</th>\n",
       "      <td>A</td>\n",
       "    </tr>\n",
       "    <tr>\n",
       "      <th>3</th>\n",
       "      <td>A</td>\n",
       "    </tr>\n",
       "    <tr>\n",
       "      <th>4</th>\n",
       "      <td>A</td>\n",
       "    </tr>\n",
       "  </tbody>\n",
       "</table>\n",
       "</div>"
      ],
      "text/plain": [
       "   0\n",
       "0  A\n",
       "1  A\n",
       "2  A\n",
       "3  A\n",
       "4  A"
      ]
     },
     "execution_count": 116,
     "metadata": {},
     "output_type": "execute_result"
    }
   ],
   "source": [
    "# performing step 4\n",
    "classified = pd.DataFrame([\"A\" if x[0] < 0.8 else \"B\" if ((x[0] > 0.8) and (x[0] < 0.95)) else \"C\" for x in Value_Series.values.tolist()])\n",
    "classified.head()"
   ]
  },
  {
   "cell_type": "code",
   "execution_count": 117,
   "metadata": {},
   "outputs": [],
   "source": [
    "#mapping ABC classification values with item code\n",
    "classified.index = Value_Series.index\n",
    "classified.columns = ['value']"
   ]
  },
  {
   "cell_type": "code",
   "execution_count": 118,
   "metadata": {},
   "outputs": [
    {
     "name": "stdout",
     "output_type": "stream",
     "text": [
      "          value\n",
      "Item Code      \n",
      "10098739      A\n",
      "111931        A\n",
      "1041106       A\n",
      "1040765       A\n",
      "110441        A\n",
      "          value\n",
      "Item Code      \n",
      "1039465       C\n",
      "10118563      C\n",
      "10118567      C\n",
      "1039467       C\n",
      "10115790      C\n"
     ]
    }
   ],
   "source": [
    "#Checking the item codes and classes\n",
    "print(classified.head())\n",
    "print(classified.tail())"
   ]
  },
  {
   "cell_type": "code",
   "execution_count": 119,
   "metadata": {
    "scrolled": false
   },
   "outputs": [
    {
     "data": {
      "text/plain": [
       "<matplotlib.axes._subplots.AxesSubplot at 0x1631000f8d0>"
      ]
     },
     "execution_count": 119,
     "metadata": {},
     "output_type": "execute_result"
    },
    {
     "data": {
      "image/png": "[encoded data removed]",
      "text/plain": [
       "<Figure size 1080x576 with 1 Axes>"
      ]
     },
     "metadata": {},
     "output_type": "display_data"
    }
   ],
   "source": [
    "classified['value'].value_counts().plot(kind='bar')"
   ]
  },
  {
   "cell_type": "markdown",
   "metadata": {},
   "source": [
    "### From above graph we can clearly see that most of clients fall under Category C which is aroun 28 from 64 unque clients. Around 20 clients fall under A category and remaining around 16 cleints fall in A category"
   ]
  },
  {
   "cell_type": "code",
   "execution_count": 120,
   "metadata": {},
   "outputs": [],
   "source": [
    "# saving the output to a file\n",
    "classified.to_csv(\"ABC_classification_SKU_Sales.csv\")"
   ]
  }
 ],
 "metadata": {
  "kernelspec": {
   "display_name": "Python 3",
   "language": "python",
   "name": "python3"
  },
  "language_info": {
   "codemirror_mode": {
    "name": "ipython",
    "version": 3
   },
   "file_extension": ".py",
   "mimetype": "text/x-python",
   "name": "python",
   "nbconvert_exporter": "python",
   "pygments_lexer": "ipython3",
   "version": "3.7.0"
  }
 },
 "nbformat": 4,
 "nbformat_minor": 2
}
