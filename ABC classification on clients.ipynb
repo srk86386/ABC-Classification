{
 "cells": [
  {
   "cell_type": "code",
   "execution_count": 77,
   "metadata": {},
   "outputs": [],
   "source": [
    "import numpy as np\n",
    "import pandas as pd"
   ]
  },
  {
   "cell_type": "code",
   "execution_count": 78,
   "metadata": {},
   "outputs": [],
   "source": [
    "import matplotlib.pyplot as plt\n",
    "from pylab import rcParams\n",
    "rcParams['figure.figsize'] = 15, 8"
   ]
  },
  {
   "cell_type": "code",
   "execution_count": 79,
   "metadata": {},
   "outputs": [],
   "source": [
    "# considering only sales test file to perform ABC CLassification on client\n",
    "sales = pd.read_csv('sales_test.csv', index_col=0)"
   ]
  },
  {
   "cell_type": "code",
   "execution_count": 80,
   "metadata": {},
   "outputs": [
    {
     "data": {
      "text/html": [
       "<div>\n",
       "<style scoped>\n",
       "    .dataframe tbody tr th:only-of-type {\n",
       "        vertical-align: middle;\n",
       "    }\n",
       "\n",
       "    .dataframe tbody tr th {\n",
       "        vertical-align: top;\n",
       "    }\n",
       "\n",
       "    .dataframe thead th {\n",
       "        text-align: right;\n",
       "    }\n",
       "</style>\n",
       "<table border=\"1\" class=\"dataframe\">\n",
       "  <thead>\n",
       "    <tr style=\"text-align: right;\">\n",
       "      <th></th>\n",
       "      <th>Order Date</th>\n",
       "      <th>Line No</th>\n",
       "      <th>Ship To Address No</th>\n",
       "      <th>Item Code</th>\n",
       "      <th>Order Qty</th>\n",
       "      <th>Quantity Shipped</th>\n",
       "    </tr>\n",
       "    <tr>\n",
       "      <th>Order No</th>\n",
       "      <th></th>\n",
       "      <th></th>\n",
       "      <th></th>\n",
       "      <th></th>\n",
       "      <th></th>\n",
       "      <th></th>\n",
       "    </tr>\n",
       "  </thead>\n",
       "  <tbody>\n",
       "    <tr>\n",
       "      <th>528758</th>\n",
       "      <td>2017-01-03</td>\n",
       "      <td>1</td>\n",
       "      <td>1358538.0</td>\n",
       "      <td>111931</td>\n",
       "      <td>70.0</td>\n",
       "      <td>70.0</td>\n",
       "    </tr>\n",
       "    <tr>\n",
       "      <th>528791</th>\n",
       "      <td>2017-01-03</td>\n",
       "      <td>1</td>\n",
       "      <td>1254798.0</td>\n",
       "      <td>1029071</td>\n",
       "      <td>10.0</td>\n",
       "      <td>10.0</td>\n",
       "    </tr>\n",
       "    <tr>\n",
       "      <th>528791</th>\n",
       "      <td>2017-01-03</td>\n",
       "      <td>2</td>\n",
       "      <td>1254798.0</td>\n",
       "      <td>1033341</td>\n",
       "      <td>10.0</td>\n",
       "      <td>10.0</td>\n",
       "    </tr>\n",
       "    <tr>\n",
       "      <th>528791</th>\n",
       "      <td>2017-01-03</td>\n",
       "      <td>3</td>\n",
       "      <td>1254798.0</td>\n",
       "      <td>1040827</td>\n",
       "      <td>5.0</td>\n",
       "      <td>5.0</td>\n",
       "    </tr>\n",
       "    <tr>\n",
       "      <th>528791</th>\n",
       "      <td>2017-01-03</td>\n",
       "      <td>4</td>\n",
       "      <td>1254798.0</td>\n",
       "      <td>10106111</td>\n",
       "      <td>10.0</td>\n",
       "      <td>10.0</td>\n",
       "    </tr>\n",
       "  </tbody>\n",
       "</table>\n",
       "</div>"
      ],
      "text/plain": [
       "          Order Date  Line No  Ship To Address No  Item Code  Order Qty  \\\n",
       "Order No                                                                  \n",
       "528758    2017-01-03        1           1358538.0     111931       70.0   \n",
       "528791    2017-01-03        1           1254798.0    1029071       10.0   \n",
       "528791    2017-01-03        2           1254798.0    1033341       10.0   \n",
       "528791    2017-01-03        3           1254798.0    1040827        5.0   \n",
       "528791    2017-01-03        4           1254798.0   10106111       10.0   \n",
       "\n",
       "          Quantity Shipped  \n",
       "Order No                    \n",
       "528758                70.0  \n",
       "528791                10.0  \n",
       "528791                10.0  \n",
       "528791                 5.0  \n",
       "528791                10.0  "
      ]
     },
     "execution_count": 80,
     "metadata": {},
     "output_type": "execute_result"
    }
   ],
   "source": [
    "sales.head()"
   ]
  },
  {
   "cell_type": "code",
   "execution_count": 81,
   "metadata": {},
   "outputs": [
    {
     "data": {
      "text/plain": [
       "(28315, 6)"
      ]
     },
     "execution_count": 81,
     "metadata": {},
     "output_type": "execute_result"
    }
   ],
   "source": [
    "sales.shape"
   ]
  },
  {
   "cell_type": "code",
   "execution_count": 82,
   "metadata": {},
   "outputs": [
    {
     "data": {
      "text/plain": [
       "708"
      ]
     },
     "execution_count": 82,
     "metadata": {},
     "output_type": "execute_result"
    }
   ],
   "source": [
    "len(sales['Ship To Address No'].unique())"
   ]
  },
  {
   "cell_type": "markdown",
   "metadata": {},
   "source": [
    "# Steps followed for ABC classification:\n",
    "\n",
    "> 1.List and sorting each unique clients (with its ship to address no) and totaling up the order quantity values.\n",
    "\n",
    "> 2.Sort the values of the series in descending order according to order quantity value.\n",
    "\n",
    "> 3.Translate each client and its order quantity into the fraction or percentage of the cumulative total.\n",
    "\n",
    "> 4.Divide the clients into A, B, and C classes where A are the clients which have cumsum avg less than 80%, B have cumsum avg between 80-95% and C have cumsum avg greater than 95%"
   ]
  },
  {
   "cell_type": "code",
   "execution_count": 83,
   "metadata": {},
   "outputs": [
    {
     "data": {
      "text/plain": [
       "Ship To Address No\n",
       "1254612.0    1407.0\n",
       "1254686.0    1510.0\n",
       "1254687.0     356.0\n",
       "1254688.0     358.0\n",
       "1254689.0     206.0\n",
       "Name: Order Qty, dtype: float64"
      ]
     },
     "execution_count": 83,
     "metadata": {},
     "output_type": "execute_result"
    }
   ],
   "source": [
    "# performing Step 1\n",
    "Groupby_qty = sales['Order Qty'].groupby(sales['Ship To Address No'], sort = True).sum()\n",
    "Groupby_qty.head()"
   ]
  },
  {
   "cell_type": "code",
   "execution_count": 84,
   "metadata": {},
   "outputs": [
    {
     "data": {
      "text/html": [
       "<div>\n",
       "<style scoped>\n",
       "    .dataframe tbody tr th:only-of-type {\n",
       "        vertical-align: middle;\n",
       "    }\n",
       "\n",
       "    .dataframe tbody tr th {\n",
       "        vertical-align: top;\n",
       "    }\n",
       "\n",
       "    .dataframe thead th {\n",
       "        text-align: right;\n",
       "    }\n",
       "</style>\n",
       "<table border=\"1\" class=\"dataframe\">\n",
       "  <thead>\n",
       "    <tr style=\"text-align: right;\">\n",
       "      <th></th>\n",
       "      <th>Order Qty</th>\n",
       "    </tr>\n",
       "    <tr>\n",
       "      <th>Ship To Address No</th>\n",
       "      <th></th>\n",
       "    </tr>\n",
       "  </thead>\n",
       "  <tbody>\n",
       "    <tr>\n",
       "      <th>1795849.0</th>\n",
       "      <td>14599.0</td>\n",
       "    </tr>\n",
       "    <tr>\n",
       "      <th>1255123.0</th>\n",
       "      <td>11629.0</td>\n",
       "    </tr>\n",
       "    <tr>\n",
       "      <th>1255548.0</th>\n",
       "      <td>11567.0</td>\n",
       "    </tr>\n",
       "    <tr>\n",
       "      <th>1740542.0</th>\n",
       "      <td>10697.0</td>\n",
       "    </tr>\n",
       "    <tr>\n",
       "      <th>1254798.0</th>\n",
       "      <td>9584.0</td>\n",
       "    </tr>\n",
       "  </tbody>\n",
       "</table>\n",
       "</div>"
      ],
      "text/plain": [
       "                    Order Qty\n",
       "Ship To Address No           \n",
       "1795849.0             14599.0\n",
       "1255123.0             11629.0\n",
       "1255548.0             11567.0\n",
       "1740542.0             10697.0\n",
       "1254798.0              9584.0"
      ]
     },
     "execution_count": 84,
     "metadata": {},
     "output_type": "execute_result"
    }
   ],
   "source": [
    "#performing Step 2\n",
    "Value_Series = pd.DataFrame(Groupby_qty.sort_values(ascending  = False))\n",
    "Value_Series.head()"
   ]
  },
  {
   "cell_type": "code",
   "execution_count": 85,
   "metadata": {},
   "outputs": [
    {
     "data": {
      "text/html": [
       "<div>\n",
       "<style scoped>\n",
       "    .dataframe tbody tr th:only-of-type {\n",
       "        vertical-align: middle;\n",
       "    }\n",
       "\n",
       "    .dataframe tbody tr th {\n",
       "        vertical-align: top;\n",
       "    }\n",
       "\n",
       "    .dataframe thead th {\n",
       "        text-align: right;\n",
       "    }\n",
       "</style>\n",
       "<table border=\"1\" class=\"dataframe\">\n",
       "  <thead>\n",
       "    <tr style=\"text-align: right;\">\n",
       "      <th></th>\n",
       "      <th>Order Qty</th>\n",
       "    </tr>\n",
       "    <tr>\n",
       "      <th>Ship To Address No</th>\n",
       "      <th></th>\n",
       "    </tr>\n",
       "  </thead>\n",
       "  <tbody>\n",
       "    <tr>\n",
       "      <th>1795849.0</th>\n",
       "      <td>0.079674</td>\n",
       "    </tr>\n",
       "    <tr>\n",
       "      <th>1255123.0</th>\n",
       "      <td>0.143139</td>\n",
       "    </tr>\n",
       "    <tr>\n",
       "      <th>1255548.0</th>\n",
       "      <td>0.206265</td>\n",
       "    </tr>\n",
       "    <tr>\n",
       "      <th>1740542.0</th>\n",
       "      <td>0.264644</td>\n",
       "    </tr>\n",
       "    <tr>\n",
       "      <th>1254798.0</th>\n",
       "      <td>0.316948</td>\n",
       "    </tr>\n",
       "  </tbody>\n",
       "</table>\n",
       "</div>"
      ],
      "text/plain": [
       "                    Order Qty\n",
       "Ship To Address No           \n",
       "1795849.0            0.079674\n",
       "1255123.0            0.143139\n",
       "1255548.0            0.206265\n",
       "1740542.0            0.264644\n",
       "1254798.0            0.316948"
      ]
     },
     "execution_count": 85,
     "metadata": {},
     "output_type": "execute_result"
    }
   ],
   "source": [
    "# Performing Step 3\n",
    "Value_Series = Value_Series.cumsum()/Value_Series.sum()\n",
    "Value_Series.head()"
   ]
  },
  {
   "cell_type": "code",
   "execution_count": 86,
   "metadata": {},
   "outputs": [
    {
     "data": {
      "text/plain": [
       "<matplotlib.axes._subplots.AxesSubplot at 0x12ad72eb128>"
      ]
     },
     "execution_count": 86,
     "metadata": {},
     "output_type": "execute_result"
    },
    {
     "data": {
      "image/png": "[encoded data removed]",
      "text/plain": [
       "<Figure size 1080x576 with 1 Axes>"
      ]
     },
     "metadata": {},
     "output_type": "display_data"
    }
   ],
   "source": [
    "Value_Series.plot(kind='bar')"
   ]
  },
  {
   "cell_type": "markdown",
   "metadata": {},
   "source": [
    "### From above plot we can predict that most of the clients falls in C then B and very few fallin A class"
   ]
  },
  {
   "cell_type": "code",
   "execution_count": 87,
   "metadata": {},
   "outputs": [
    {
     "name": "stdout",
     "output_type": "stream",
     "text": [
      "0.07967364313586378\n",
      "0.143138592517805\n",
      "0.2062651785957923\n",
      "0.2646437634731356\n",
      "0.3169481812972412\n"
     ]
    },
    {
     "data": {
      "text/plain": [
       "[None, None, None, None, None]"
      ]
     },
     "execution_count": 87,
     "metadata": {},
     "output_type": "execute_result"
    }
   ],
   "source": [
    "# just to check the results of cumsum avg\n",
    "cumsumavg =  [x[0] for x in Value_Series.values.tolist()]\n",
    "[print(cumsumavg[x]) for x in range(5)]"
   ]
  },
  {
   "cell_type": "code",
   "execution_count": 88,
   "metadata": {},
   "outputs": [
    {
     "data": {
      "text/html": [
       "<div>\n",
       "<style scoped>\n",
       "    .dataframe tbody tr th:only-of-type {\n",
       "        vertical-align: middle;\n",
       "    }\n",
       "\n",
       "    .dataframe tbody tr th {\n",
       "        vertical-align: top;\n",
       "    }\n",
       "\n",
       "    .dataframe thead th {\n",
       "        text-align: right;\n",
       "    }\n",
       "</style>\n",
       "<table border=\"1\" class=\"dataframe\">\n",
       "  <thead>\n",
       "    <tr style=\"text-align: right;\">\n",
       "      <th></th>\n",
       "      <th>0</th>\n",
       "    </tr>\n",
       "  </thead>\n",
       "  <tbody>\n",
       "    <tr>\n",
       "      <th>0</th>\n",
       "      <td>A</td>\n",
       "    </tr>\n",
       "    <tr>\n",
       "      <th>1</th>\n",
       "      <td>A</td>\n",
       "    </tr>\n",
       "    <tr>\n",
       "      <th>2</th>\n",
       "      <td>A</td>\n",
       "    </tr>\n",
       "    <tr>\n",
       "      <th>3</th>\n",
       "      <td>A</td>\n",
       "    </tr>\n",
       "    <tr>\n",
       "      <th>4</th>\n",
       "      <td>A</td>\n",
       "    </tr>\n",
       "  </tbody>\n",
       "</table>\n",
       "</div>"
      ],
      "text/plain": [
       "   0\n",
       "0  A\n",
       "1  A\n",
       "2  A\n",
       "3  A\n",
       "4  A"
      ]
     },
     "execution_count": 88,
     "metadata": {},
     "output_type": "execute_result"
    }
   ],
   "source": [
    "# performing step 4\n",
    "classified = pd.DataFrame([\"A\" if x[0] < 0.8 else \"B\" if ((x[0] > 0.8) and (x[0] < 0.95)) else \"C\" for x in Value_Series.values.tolist()])\n",
    "classified.head()"
   ]
  },
  {
   "cell_type": "code",
   "execution_count": 89,
   "metadata": {},
   "outputs": [],
   "source": [
    "#mapping ABC classification values with clients\n",
    "classified.index = Value_Series.index\n",
    "classified.columns = ['value']"
   ]
  },
  {
   "cell_type": "code",
   "execution_count": 90,
   "metadata": {
    "scrolled": true
   },
   "outputs": [
    {
     "name": "stdout",
     "output_type": "stream",
     "text": [
      "                   value\n",
      "Ship To Address No      \n",
      "1795849.0              A\n",
      "1255123.0              A\n",
      "1255548.0              A\n",
      "1740542.0              A\n",
      "1254798.0              A\n",
      "                   value\n",
      "Ship To Address No      \n",
      "1255451.0              C\n",
      "1255454.0              C\n",
      "1255269.0              C\n",
      "1255536.0              C\n",
      "1255344.0              C\n"
     ]
    }
   ],
   "source": [
    "#Checking the item codes and classes\n",
    "print(classified.head())\n",
    "print(classified.tail())"
   ]
  },
  {
   "cell_type": "code",
   "execution_count": 91,
   "metadata": {
    "scrolled": false
   },
   "outputs": [
    {
     "data": {
      "text/plain": [
       "<matplotlib.axes._subplots.AxesSubplot at 0x12ad7030d30>"
      ]
     },
     "execution_count": 91,
     "metadata": {},
     "output_type": "execute_result"
    },
    {
     "data": {
      "image/png": "[encoded data removed]",
      "text/plain": [
       "<Figure size 1080x576 with 1 Axes>"
      ]
     },
     "metadata": {},
     "output_type": "display_data"
    }
   ],
   "source": [
    "classified['value'].value_counts().plot(kind='bar')"
   ]
  },
  {
   "cell_type": "markdown",
   "metadata": {},
   "source": [
    "### From above graph we can clearly see that most of clients fall under Category C which is aroun 380 from 708 unque clients. Around 265 clients fall under B category and remaining around 65 cleints fall in A category"
   ]
  },
  {
   "cell_type": "code",
   "execution_count": 92,
   "metadata": {},
   "outputs": [],
   "source": [
    "# saving the output to a file\n",
    "classified.to_csv(\"ABC_classification_Client_Sales.csv\")"
   ]
  }
 ],
 "metadata": {
  "kernelspec": {
   "display_name": "Python 3",
   "language": "python",
   "name": "python3"
  },
  "language_info": {
   "codemirror_mode": {
    "name": "ipython",
    "version": 3
   },
   "file_extension": ".py",
   "mimetype": "text/x-python",
   "name": "python",
   "nbconvert_exporter": "python",
   "pygments_lexer": "ipython3",
   "version": "3.7.0"
  }
 },
 "nbformat": 4,
 "nbformat_minor": 2
}
